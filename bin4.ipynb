{
 "cells": [
  {
   "cell_type": "code",
   "execution_count": 18,
   "metadata": {
    "collapsed": true
   },
   "outputs": [],
   "source": [
    "# Importing Libraries\n",
    "\n",
    "import math\n",
    "import pandas as pd\n",
    "import matplotlib.pyplot as plt\n",
    "\n",
    "# Inserting 8 Points\n",
    "dataset = {'Points': ['P1', 'P2', 'P3', 'P4', 'P5', 'P6', 'P7', 'P8'],\n",
    "           'X': [0.1, 0.15, 0.08, 0.16, 0.2, 0.25, 0.24, 0.3],\n",
    "           'Y': [0.6, 0.71, 0.9, 0.85, 0.3, 0.5, 0.1, 0.2]}\n",
    "\n",
    "df = pd.DataFrame(dataset)"
   ]
  },
  {
   "cell_type": "code",
   "execution_count": 19,
   "metadata": {
    "collapsed": false
   },
   "outputs": [
    {
     "data": {
      "image/png": "[encoded data removed]",
      "text/plain": [
       "<Figure size 640x480 with 1 Axes>"
      ]
     },
     "metadata": {},
     "output_type": "display_data"
    }
   ],
   "source": [
    "x = df.X\n",
    "y = df.Y\n",
    "plt.scatter(x, y)\n",
    "for i, txt in enumerate(df.Points):\n",
    "    plt.annotate(txt, (df.X[i], df.Y[i]))\n",
    "\n",
    "plt.show()"
   ]
  },
  {
   "cell_type": "code",
   "execution_count": 20,
   "metadata": {
    "collapsed": false
   },
   "outputs": [],
   "source": [
    "def calculate_distance(p1, p2):\n",
    "    x1 = p1[0]\n",
    "    y1 = p1[1]\n",
    "    x2 = p2[0]\n",
    "    y2 = p2[1]\n",
    "    return math.sqrt(math.pow((x2 - x1), 2) + math.pow((y2 - y1), 2))"
   ]
  },
  {
   "cell_type": "code",
   "execution_count": 21,
   "metadata": {
    "collapsed": false
   },
   "outputs": [],
   "source": [
    "def update(m, p):\n",
    "    x1 = m[0]\n",
    "    y1 = m[1]\n",
    "    x2 = p[0]\n",
    "    y2 = p[1]\n",
    "    return [(x1 + x2) / 2, (y1 + y2) / 2]"
   ]
  },
  {
   "cell_type": "code",
   "execution_count": 22,
   "metadata": {
    "collapsed": false
   },
   "outputs": [],
   "source": [
    "points = [\"P\" + str(x + 1) for x in range(8)]"
   ]
  },
  {
   "cell_type": "code",
   "execution_count": 23,
   "metadata": {
    "collapsed": false
   },
   "outputs": [],
   "source": [
    "coordinates = [[0.1, 0.6], [0.15, 0.71], [0.08, 0.9], [0.16, 0.85], [0.2, 0.3], [0.25, 0.5], [0.24, 0.1], [0.3, 0.2]]"
   ]
  },
  {
   "cell_type": "code",
   "execution_count": 24,
   "metadata": {
    "collapsed": false
   },
   "outputs": [],
   "source": [
    "m1 = coordinates[0]  # Cluster 1\n",
    "m2 = coordinates[7]  # Cluster 2\n",
    "m1_list = []\n",
    "m2_list = []"
   ]
  },
  {
   "cell_type": "code",
   "execution_count": 25,
   "metadata": {
    "collapsed": false
   },
   "outputs": [
    {
     "name": "stdout",
     "output_type": "stream",
     "text": [
      "Point Under Consideration P1 : [0.1, 0.6]\n",
      "Point P1 : [0.1, 0.6] Added to Cluster 1\n",
      "Point Under Consideration P2 : [0.15, 0.71]\n",
      "Point P2 : [0.15, 0.71] Added to Cluster 1\n",
      "Point Under Consideration P3 : [0.08, 0.9]\n",
      "Point P3 : [0.08, 0.9] Added to Cluster 1\n",
      "Point Under Consideration P4 : [0.16, 0.85]\n",
      "Point P4 : [0.16, 0.85] Added to Cluster 1\n",
      "Point Under Consideration P5 : [0.2, 0.3]\n",
      "Point P5 : [0.2, 0.3] Added to Cluster 2\n",
      "Point Under Consideration P6 : [0.25, 0.5]\n",
      "Point P6 : [0.25, 0.5] Added to Cluster 2\n",
      "Point Under Consideration P7 : [0.24, 0.1]\n",
      "Point P7 : [0.24, 0.1] Added to Cluster 2\n",
      "Point Under Consideration P8 : [0.3, 0.2]\n",
      "Point P8 : [0.3, 0.2] Added to Cluster 2\n",
      "\n",
      "Points in Cluster 1 : 4\n",
      "['P1', 'P2', 'P3', 'P4']\n",
      "Points in Cluster 2 : 4\n",
      "['P5', 'P6', 'P7', 'P8']\n",
      "\n",
      "Final value of m1 = [0.13125, 0.81375]\n",
      "Final value of m2 = [0.27249999999999996, 0.21875]\n"
     ]
    }
   ],
   "source": [
    "for i in range(8):\n",
    "    print(f\"Point Under Consideration {points[i]} : {coordinates[i]}\")\n",
    "    dis_m1 = calculate_distance(m1, coordinates[i])\n",
    "    dis_m2 = calculate_distance(m2, coordinates[i])\n",
    "    if dis_m1 < dis_m2:\n",
    "        print(f\"Point {points[i]} : {coordinates[i]} Added to Cluster 1\")\n",
    "        m1 = update(m1, coordinates[i])\n",
    "        m1_list.append(points[i])\n",
    "    else:\n",
    "        print(f\"Point {points[i]} : {coordinates[i]} Added to Cluster 2\")\n",
    "        m2 = update(m2, coordinates[i])\n",
    "        m2_list.append(points[i])\n",
    "\n",
    "print(f\"\\nPoints in Cluster 1 : {len(m1_list)}\")\n",
    "print(m1_list)\n",
    "print(f\"Points in Cluster 2 : {len(m2_list)}\")\n",
    "print(m2_list)\n",
    "\n",
    "print(f\"\\nFinal value of m1 = {m1}\")\n",
    "print(f\"Final value of m2 = {m2}\")"
   ]
  }
 ],
 "metadata": {
  "kernelspec": {
   "display_name": "Python 3.8.10 64-bit",
   "language": "python",
   "name": "python3"
  },
  "language_info": {
   "codemirror_mode": {
    "name": "ipython",
    "version": 3
   },
   "file_extension": ".py",
   "mimetype": "text/x-python",
   "name": "python",
   "nbconvert_exporter": "python",
   "pygments_lexer": "ipython3",
   "version": "3.8.10"
  },
  "vscode": {
   "interpreter": {
    "hash": "3c77c8f2d2be62954ee9daf7471c9f0b350bde9d6ee2aca4af54b2b93b948edd"
   }
  }
 },
 "nbformat": 4,
 "nbformat_minor": 0
}
